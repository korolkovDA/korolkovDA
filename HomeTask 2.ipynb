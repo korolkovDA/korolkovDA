{
 "cells": [
  {
   "cell_type": "code",
   "execution_count": 1,
   "id": "f2b815fe-e2c1-4db3-9256-cbcb44dad5e7",
   "metadata": {
    "tags": []
   },
   "outputs": [
    {
     "name": "stdout",
     "output_type": "stream",
     "text": [
      "[[0.26085103 0.69639069 0.34132107]\n",
      " [0.37568625 0.05581032 0.86648929]\n",
      " [0.46344864 0.76923929 0.5610761 ]\n",
      " [0.18567692 0.88912414 0.0284219 ]\n",
      " [0.82686831 0.62122925 0.65488185]\n",
      " [0.98175174 0.15983029 0.17669163]\n",
      " [0.36119379 0.32435919 0.10900487]\n",
      " [0.84094578 0.02777642 0.87096612]\n",
      " [0.05713959 0.29240628 0.88182152]\n",
      " [0.22900059 0.7159465  0.2463736 ]]\n",
      "[0.34132107 0.37568625 0.46344864 0.18567692 0.62122925 0.17669163\n",
      " 0.36119379 0.84094578 0.29240628 0.7159465 ]\n"
     ]
    }
   ],
   "source": [
    "#number 1\n",
    "\n",
    "import math\n",
    "import numpy as np\n",
    "\n",
    "arr = np.random.random((10,3))\n",
    "print(arr)\n",
    "\n",
    "print( arr[np.arange(arr.shape[0]), np.argmin(abs(arr - 0.5), axis = 1)] )"
   ]
  },
  {
   "cell_type": "code",
   "execution_count": 2,
   "id": "fa8248b9-8bd1-4529-8471-3a5ce965fcbf",
   "metadata": {},
   "outputs": [
    {
     "name": "stdout",
     "output_type": "stream",
     "text": [
      "[[0.33961548 0.24300733 0.7225695  0.69428562 0.62416059 0.83117085]\n",
      " [0.44177937 0.62686586 0.99352372 0.32662538 0.40548301 0.18582045]\n",
      " [0.365314   0.20255221 0.04410834 0.48156548 0.04209286 0.89832576]\n",
      " [0.1940132  0.515642   0.92101959 0.56166584 0.77419896 0.69216698]\n",
      " [0.50019935 0.34393962 0.8871268  0.64000549 0.79471886 0.02450359]\n",
      " [0.35338856 0.15173041 0.89628942 0.60124666 0.27667106 0.55891082]]\n",
      "17.807084045848992\n",
      "19.640741612296114\n",
      "46.11278817965312\n",
      "11.20153797683019\n",
      "75.79655007224143\n",
      "115.82941349763225\n"
     ]
    }
   ],
   "source": [
    "#number 2\n",
    "\n",
    "mass = np.random.random((6,6))\n",
    "print (mass)\n",
    "for i in range(6): \n",
    "    print(sum(mass[i]) / (np.min(mass, axis = 0))[i])"
   ]
  },
  {
   "cell_type": "code",
   "execution_count": 3,
   "id": "d8ee26f5-0e9f-432a-b9bf-02792c2b9fc0",
   "metadata": {},
   "outputs": [
    {
     "name": "stdout",
     "output_type": "stream",
     "text": [
      "[False False  True False  True  True False  True]\n",
      "[3 0 5 7]\n"
     ]
    }
   ],
   "source": [
    "#number 3 \n",
    "\n",
    "x = np.array([6, 2, 0, 3, 0, 0, 5, 0, 7])\n",
    "\n",
    "zero = (x==0)\n",
    "print(zero[:-1])\n",
    "print ( x[1:][ zero[:-1] ] )\n"
   ]
  },
  {
   "cell_type": "code",
   "execution_count": 4,
   "id": "a2f08215-7f22-450b-8d4f-0c883ff4b8cf",
   "metadata": {},
   "outputs": [
    {
     "name": "stdout",
     "output_type": "stream",
     "text": [
      "[2. 2. 2. 2. 1. 4. 1. 1. 2. 1.]\n"
     ]
    }
   ],
   "source": [
    "#number 4\n",
    "\n",
    "x = np.ones(10)\n",
    "i = np.array([0, 1, 2, 3, 5, 5, 5, 8])\n",
    "\n",
    "for k in i: x[k] += 1\n",
    "print(x)"
   ]
  },
  {
   "cell_type": "code",
   "execution_count": 13,
   "id": "67085191-3d4d-4c56-926d-4bee7c73bd27",
   "metadata": {
    "tags": []
   },
   "outputs": [],
   "source": [
    "#number 5: k_means\n",
    "\n",
    "import matplotlib\n",
    "import matplotlib.pyplot as plt\n",
    "import math\n",
    "\n",
    "def k_means (data, k, e):\n",
    "    \n",
    "    centr = np.zeros(k*2).reshape((k,2)) \n",
    "    \n",
    "    centr[:, [0,1]] = data[:k, [0,1]]\n",
    "    shift = np.full((k), 10*e) \n",
    "    \n",
    "    new_coordinate = np.ones(k*3).reshape((k,3))\n",
    "    dist = np.zeros(len(data)*k).reshape((len(data), k))\n",
    "    \n",
    "    while (shift.max() >= e ):\n",
    "\n",
    "        for i in range(len(data)):\n",
    "            dist[i][:] =  ((data[i,0] - centr[:,0])**2 + (data[i,1] - centr[:,1])**2)**(1/2)\n",
    "            arg = np.argmin(dist[i])\n",
    "\n",
    "            new_coordinate[arg, 0] += data[i,0]\n",
    "            new_coordinate[arg, 1] += data[i,1]\n",
    "\n",
    "            new_coordinate[arg, 2] += 1\n",
    "        \n",
    "\n",
    "        new_coordinate[:,0] = new_coordinate[:,0]/ new_coordinate[:,2]\n",
    "        new_coordinate[:,1] = new_coordinate[:,1]/ new_coordinate[:,2]\n",
    "        shift[:] = ( (centr[:,0] - new_coordinate[:,0])**2 + (centr[:,1] - new_coordinate[:,1])**2 ) **(1/2)\n",
    "        \n",
    "        \n",
    "        centr[:,0] = new_coordinate[:,0]\n",
    "        centr[:,1] = new_coordinate[:,1]\n",
    "        new_coordinate[:] = 0\n",
    "        \n",
    "\n",
    "    return centr\n",
    "\n",
    "data = np.array( [ [0,0],[0,5],[5,0],[6,2],[3,8],[10,1],[-1,-3],[3,-2],[1,1] ] )\n",
    "\n",
    "k = 3\n",
    "e =10**(-5)\n",
    "centr = k_means(data, k, e)"
   ]
  },
  {
   "cell_type": "markdown",
   "id": "1e960cc9",
   "metadata": {},
   "source": [
    "Алгоритм написан по условиям, который не должен учитывать раскраску кластеров в разный цвет. Поэтому добавим немного строчек кода"
   ]
  },
  {
   "cell_type": "code",
   "execution_count": 18,
   "id": "c4a4d015",
   "metadata": {},
   "outputs": [
    {
     "data": {
      "image/png": "[encoded data removed]",
      "text/plain": [
       "<Figure size 432x288 with 1 Axes>"
      ]
     },
     "metadata": {
      "needs_background": "light"
     },
     "output_type": "display_data"
    }
   ],
   "source": [
    "choice = np.zeros(len(data))\n",
    "dist_2 = np.zeros(len(data)*k).reshape((len(data), k))\n",
    "\n",
    "for i in range(len(data)):\n",
    "    dist_2[i][:] =  ((data[i,0] - centr[:,0])**2 + (data[i,1] - centr[:,1])**2)**(1/2)\n",
    "    choice[i]= np.argmin(dist_2[i])\n",
    "    \n",
    "# Теперь у нас есть массив, который хранит для каждой точки из data номер её кластера \n",
    "\n",
    "\n",
    "for i in range(k):\n",
    "    mask = choice[:] == i \n",
    "    plt.scatter( data[mask, 0], data[mask, 1] )\n",
    "\n",
    "plt.scatter(centr[:,0], centr[:,1], c = 'black')\n",
    "plt.xlabel('x')\n",
    "plt.ylabel('y')\n",
    "plt.show()"
   ]
  },
  {
   "cell_type": "code",
   "execution_count": null,
   "id": "8c2e13dc",
   "metadata": {},
   "outputs": [],
   "source": []
  }
 ],
 "metadata": {
  "kernelspec": {
   "display_name": "Python 3 (ipykernel)",
   "language": "python",
   "name": "python3"
  },
  "language_info": {
   "codemirror_mode": {
    "name": "ipython",
    "version": 3
   },
   "file_extension": ".py",
   "mimetype": "text/x-python",
   "name": "python",
   "nbconvert_exporter": "python",
   "pygments_lexer": "ipython3",
   "version": "3.9.7"
  }
 },
 "nbformat": 4,
 "nbformat_minor": 5
}
